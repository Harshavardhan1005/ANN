{
  "nbformat": 4,
  "nbformat_minor": 0,
  "metadata": {
    "colab": {
      "name": "Clustering lat and lon using kmeans.ipynb",
      "provenance": [],
      "mount_file_id": "1qp5dOWibgKK9-_DLkfUMowcpR1BvU1yI",
      "authorship_tag": "ABX9TyPhCO35Qb8aH61/IhqMUY+9",
      "include_colab_link": true
    },
    "kernelspec": {
      "name": "python3",
      "display_name": "Python 3"
    },
    "language_info": {
      "name": "python"
    },
    "widgets": {
      "application/vnd.jupyter.widget-state+json": {
        "40d30cd56c464a429d6ef16bb52b39b4": {
          "model_module": "keplergl-jupyter",
          "model_name": "KeplerGlModal",
          "model_module_version": "^0.3.2",
          "state": {
            "_dom_classes": [],
            "_model_module": "keplergl-jupyter",
            "_model_module_version": "^0.3.2",
            "_model_name": "KeplerGlModal",
            "_view_count": null,
            "_view_module": "keplergl-jupyter",
            "_view_module_version": "^0.3.2",
            "_view_name": "KeplerGlView",
            "config": {
              "version": "v1",
              "config": {
                "visState": {
                  "filters": [],
                  "layers": [
                    {
                      "id": "4gs44r",
                      "type": "cluster",
                      "config": {
                        "dataId": "data",
                        "label": "Point",
                        "color": [
                          18,
                          147,
                          154
                        ],
                        "highlightColor": [
                          252,
                          242,
                          26,
                          255
                        ],
                        "columns": {
                          "lat": "latitude",
                          "lng": "longitude"
                        },
                        "isVisible": true,
                        "visConfig": {
                          "opacity": 0.8,
                          "clusterRadius": 40,
                          "colorRange": {
                            "name": "ColorBrewer PuBuGn-6",
                            "type": "sequential",
                            "category": "ColorBrewer",
                            "colors": [
                              "#f6eff7",
                              "#d0d1e6",
                              "#a6bddb",
                              "#67a9cf",
                              "#1c9099",
                              "#016c59"
                            ]
                          },
                          "radiusRange": [
                            1,
                            40
                          ],
                          "colorAggregation": "average"
                        },
                        "hidden": false,
                        "textLabel": [
                          {
                            "field": null,
                            "color": [
                              255,
                              255,
                              255
                            ],
                            "size": 18,
                            "offset": [
                              0,
                              0
                            ],
                            "anchor": "start",
                            "alignment": "center"
                          }
                        ]
                      },
                      "visualChannels": {
                        "colorField": {
                          "name": "cluster",
                          "type": "integer"
                        },
                        "colorScale": "quantile"
                      }
                    }
                  ],
                  "interactionConfig": {
                    "tooltip": {
                      "fieldsToShow": {
                        "data": [
                          {
                            "name": "cluster",
                            "format": null
                          }
                        ]
                      },
                      "compareMode": false,
                      "compareType": "absolute",
                      "enabled": true
                    },
                    "brush": {
                      "size": 0.5,
                      "enabled": false
                    },
                    "geocoder": {
                      "enabled": false
                    },
                    "coordinate": {
                      "enabled": false
                    }
                  },
                  "layerBlending": "normal",
                  "splitMaps": [],
                  "animationConfig": {
                    "currentTime": null,
                    "speed": 1
                  }
                },
                "mapState": {
                  "bearing": 0,
                  "dragRotate": false,
                  "latitude": 23.41999245018674,
                  "longitude": 88.71947282077677,
                  "pitch": 0,
                  "zoom": 7.055423007362394,
                  "isSplit": false
                },
                "mapStyle": {
                  "styleType": "dark",
                  "topLayerGroups": {},
                  "visibleLayerGroups": {
                    "label": true,
                    "road": true,
                    "border": false,
                    "building": true,
                    "water": true,
                    "land": true,
                    "3d building": false
                  },
                  "threeDBuildingColor": [
                    9.665468314072013,
                    17.18305478057247,
                    31.1442867897876
                  ],
                  "mapStyles": {}
                }
              }
            },
            "data": {
              "data": {
                "index": [
                  0,
                  1,
                  2,
                  3,
                  4,
                  5,
                  6,
                  7,
                  8,
                  9,
                  10,
                  11,
                  12,
                  13,
                  14,
                  15,
                  16,
                  17,
                  18,
                  19,
                  21,
                  22,
                  24,
                  25,
                  26,
                  27,
                  29,
                  30,
                  31,
                  32,
                  33,
                  34,
                  35,
                  36,
                  37,
                  38,
                  40,
                  41,
                  42,
                  43,
                  44,
                  45,
                  46,
                  47,
                  48,
                  49,
                  50,
                  51,
                  52,
                  53,
                  54,
                  55,
                  56,
                  57,
                  58,
                  59,
                  61,
                  62,
                  63,
                  64,
                  67,
                  68,
                  71,
                  74,
                  76,
                  82,
                  83,
                  84,
                  85,
                  86,
                  87,
                  88,
                  89,
                  90,
                  91,
                  92,
                  93,
                  94,
                  95,
                  97,
                  98,
                  99,
                  100,
                  101,
                  102,
                  103
                ],
                "columns": [
                  "latitude",
                  "longitude",
                  "cluster"
                ],
                "data": [
                  [
                    23.80478,
                    88.562722,
                    1
                  ],
                  [
                    23.181806,
                    88.470491,
                    5
                  ],
                  [
                    23.33549,
                    88.643978,
                    4
                  ],
                  [
                    23.981888,
                    88.623381,
                    8
                  ],
                  [
                    23.4261,
                    88.606559,
                    4
                  ],
                  [
                    23.109799,
                    88.593455,
                    0
                  ],
                  [
                    22.980608,
                    88.661259,
                    7
                  ],
                  [
                    23.782814,
                    88.273116,
                    3
                  ],
                  [
                    23.080445,
                    88.672222,
                    6
                  ],
                  [
                    23.791244,
                    88.445353,
                    2
                  ],
                  [
                    23.032065,
                    88.470089,
                    0
                  ],
                  [
                    23.135488,
                    88.485499,
                    0
                  ],
                  [
                    23.104634,
                    88.555172,
                    0
                  ],
                  [
                    23.127868,
                    88.580114,
                    0
                  ],
                  [
                    23.088792,
                    88.591337,
                    0
                  ],
                  [
                    23.038007,
                    88.619499,
                    7
                  ],
                  [
                    23.017431,
                    88.464157,
                    0
                  ],
                  [
                    22.968602,
                    88.631824,
                    7
                  ],
                  [
                    23.168333,
                    88.690277,
                    6
                  ],
                  [
                    23.207805,
                    88.703464,
                    6
                  ],
                  [
                    23.188046,
                    88.607185,
                    6
                  ],
                  [
                    23.091824,
                    88.579225,
                    0
                  ],
                  [
                    23.882564,
                    88.595816,
                    1
                  ],
                  [
                    23.779312,
                    88.308455,
                    3
                  ],
                  [
                    22.993351,
                    88.640567,
                    7
                  ],
                  [
                    23.083255,
                    88.674481,
                    6
                  ],
                  [
                    23.865987,
                    88.537367,
                    1
                  ],
                  [
                    23.417494,
                    88.701582,
                    4
                  ],
                  [
                    23.739661,
                    88.478684,
                    2
                  ],
                  [
                    23.939736,
                    88.647801,
                    8
                  ],
                  [
                    23.73386,
                    88.52384,
                    2
                  ],
                  [
                    23.230654,
                    88.494908,
                    5
                  ],
                  [
                    23.279794,
                    88.502992,
                    5
                  ],
                  [
                    23.344691,
                    88.519212,
                    5
                  ],
                  [
                    23.049865,
                    88.687888,
                    7
                  ],
                  [
                    23.985553,
                    88.537045,
                    1
                  ],
                  [
                    23.289051,
                    88.378745,
                    5
                  ],
                  [
                    23.2834,
                    88.4389,
                    5
                  ],
                  [
                    23.095891,
                    88.74591,
                    6
                  ],
                  [
                    23.793343,
                    88.352437,
                    3
                  ],
                  [
                    23.073957,
                    88.711024,
                    6
                  ],
                  [
                    23.026882,
                    88.601059,
                    7
                  ],
                  [
                    23.230416,
                    88.663551,
                    6
                  ],
                  [
                    23.727273,
                    88.466578,
                    2
                  ],
                  [
                    23.067294,
                    88.557895,
                    0
                  ],
                  [
                    23.780097,
                    88.329924,
                    3
                  ],
                  [
                    23.515248,
                    88.460827,
                    4
                  ],
                  [
                    23.163031,
                    88.479555,
                    0
                  ],
                  [
                    23.526182,
                    88.54757,
                    4
                  ],
                  [
                    23.00475,
                    88.558053,
                    7
                  ],
                  [
                    23.642346,
                    88.451441,
                    2
                  ],
                  [
                    23.176687,
                    88.567119,
                    0
                  ],
                  [
                    23.881659,
                    88.477776,
                    1
                  ],
                  [
                    23.854819,
                    88.526085,
                    1
                  ],
                  [
                    23.869627,
                    88.536299,
                    1
                  ],
                  [
                    24.045241,
                    88.703611,
                    8
                  ],
                  [
                    23.883039,
                    88.577413,
                    1
                  ],
                  [
                    23.983325,
                    88.640967,
                    8
                  ],
                  [
                    23.609799,
                    88.383384,
                    3
                  ],
                  [
                    23.010625,
                    88.614936,
                    7
                  ],
                  [
                    22.972771,
                    88.594357,
                    7
                  ],
                  [
                    22.994455,
                    88.566143,
                    7
                  ],
                  [
                    23.364161,
                    88.600677,
                    4
                  ],
                  [
                    23.793222,
                    88.448555,
                    2
                  ],
                  [
                    23.534289,
                    88.546109,
                    4
                  ],
                  [
                    23.494794,
                    88.60657,
                    4
                  ],
                  [
                    23.196526,
                    88.625373,
                    6
                  ],
                  [
                    23.034136,
                    88.459616,
                    0
                  ],
                  [
                    23.513889,
                    88.635141,
                    4
                  ],
                  [
                    23.214994,
                    88.210966,
                    5
                  ],
                  [
                    23.452625,
                    88.692083,
                    4
                  ],
                  [
                    23.933204,
                    88.678271,
                    8
                  ],
                  [
                    23.96415,
                    88.670887,
                    8
                  ],
                  [
                    23.939506,
                    88.621873,
                    8
                  ],
                  [
                    23.079685,
                    88.533979,
                    0
                  ],
                  [
                    23.88856,
                    88.499255,
                    1
                  ],
                  [
                    22.975924,
                    88.52284,
                    7
                  ],
                  [
                    23.081441,
                    88.543447,
                    0
                  ],
                  [
                    23.891256,
                    88.475308,
                    1
                  ],
                  [
                    23.83923,
                    88.510444,
                    1
                  ],
                  [
                    23.683575,
                    88.304339,
                    3
                  ],
                  [
                    23.631583,
                    88.582737,
                    2
                  ],
                  [
                    23.877648,
                    88.563628,
                    1
                  ],
                  [
                    23.729377,
                    88.530396,
                    2
                  ],
                  [
                    23.35031,
                    88.402519,
                    5
                  ],
                  [
                    23.301075,
                    88.508474,
                    5
                  ]
                ]
              }
            },
            "height": 500,
            "layout": "IPY_MODEL_86c9be9a27dd4f1085eef92abc18d7d1",
            "value": "Hello World!"
          }
        },
        "86c9be9a27dd4f1085eef92abc18d7d1": {
          "model_module": "@jupyter-widgets/base",
          "model_name": "LayoutModel",
          "model_module_version": "1.2.0",
          "state": {
            "_model_module": "@jupyter-widgets/base",
            "_model_module_version": "1.2.0",
            "_model_name": "LayoutModel",
            "_view_count": null,
            "_view_module": "@jupyter-widgets/base",
            "_view_module_version": "1.2.0",
            "_view_name": "LayoutView",
            "align_content": null,
            "align_items": null,
            "align_self": null,
            "border": null,
            "bottom": null,
            "display": null,
            "flex": null,
            "flex_flow": null,
            "grid_area": null,
            "grid_auto_columns": null,
            "grid_auto_flow": null,
            "grid_auto_rows": null,
            "grid_column": null,
            "grid_gap": null,
            "grid_row": null,
            "grid_template_areas": null,
            "grid_template_columns": null,
            "grid_template_rows": null,
            "height": null,
            "justify_content": null,
            "justify_items": null,
            "left": null,
            "margin": null,
            "max_height": null,
            "max_width": null,
            "min_height": null,
            "min_width": null,
            "object_fit": null,
            "object_position": null,
            "order": null,
            "overflow": null,
            "overflow_x": null,
            "overflow_y": null,
            "padding": null,
            "right": null,
            "top": null,
            "visibility": null,
            "width": null
          }
        }
      }
    }
  },
  "cells": [
    {
      "cell_type": "markdown",
      "metadata": {
        "id": "view-in-github",
        "colab_type": "text"
      },
      "source": [
        "<a href=\"https://colab.research.google.com/github/Harshavardhan1005/ANN/blob/main/Clustering_lat_and_lon_using_kmeans.ipynb\" target=\"_parent\"><img src=\"https://colab.research.google.com/assets/colab-badge.svg\" alt=\"Open In Colab\"/></a>"
      ]
    },
    {
      "cell_type": "code",
      "execution_count": 126,
      "metadata": {
        "id": "vRSI0QFgnIkD"
      },
      "outputs": [],
      "source": [
        "import pandas as pd\n",
        "import numpy as np\n",
        "import matplotlib.pyplot as plt\n",
        "from sklearn.cluster import KMeans\n",
        "from google.colab import output\n",
        "output.enable_custom_widget_manager()"
      ]
    },
    {
      "cell_type": "code",
      "source": [
        "df = pd.read_csv('/content/drive/MyDrive/Cherry/kepler - Sheet1.csv')"
      ],
      "metadata": {
        "id": "LjVeHh4KnMX2"
      },
      "execution_count": 105,
      "outputs": []
    },
    {
      "cell_type": "code",
      "source": [
        "df.head()"
      ],
      "metadata": {
        "colab": {
          "base_uri": "https://localhost:8080/",
          "height": 206
        },
        "id": "5zQ0mf2woOC-",
        "outputId": "69f6181d-fe16-48ba-ef4b-2a43aebca701"
      },
      "execution_count": 106,
      "outputs": [
        {
          "output_type": "execute_result",
          "data": {
            "text/plain": [
              "                     partner               node  pincode   latitude  \\\n",
              "0  M/S KRISHI BANDHU BHANDER  Krishnanagar (HQ)   741163  23.804780   \n",
              "1     M/S BIJOY KUMAR BISWAS  Krishnanagar (HQ)   741402  23.181806   \n",
              "2            M/S SUBRATA DEY  Krishnanagar (HQ)   741502  23.335490   \n",
              "3         M/S Niharendu Saha  Krishnanagar (HQ)   741152  23.981888   \n",
              "4       M/S KALACHAND SARKAR  Krishnanagar (HQ)   741161  23.426100   \n",
              "\n",
              "   longitude                             address  lat_long_status  \\\n",
              "0  88.562722      ,Tehatta-I ,Nadia ,West Bengal             True   \n",
              "1  88.470491     ,Ranaghat-I ,Nadia ,West Bengal             True   \n",
              "2  88.643978      ,Hanskhali ,Nadia ,West Bengal             True   \n",
              "3  88.623381     ,Karimpur-1 ,Nadia ,West Bengal             True   \n",
              "4  88.606559   ,Krishnagar-I ,Nadia ,West Bengal             True   \n",
              "\n",
              "                 dc_cord                node_cord    Distance lm_category  \n",
              "0   (23.80478,88.562722)  (25.9646932,85.2547887)  411.019962    Very Far  \n",
              "1  (23.181806,88.470491)  (25.9646932,85.2547887)  448.425222    Very Far  \n",
              "2   (23.33549,88.643978)  (25.9646932,85.2547887)  449.994015    Very Far  \n",
              "3  (23.981888,88.623381)  (25.9646932,85.2547887)  404.854918    Very Far  \n",
              "4    (23.4261,88.606559)  (25.9646932,85.2547887)  440.551134    Very Far  "
            ],
            "text/html": [
              "\n",
              "  <div id=\"df-73a6443d-001f-40cb-80c6-1a6ca63fc88a\">\n",
              "    <div class=\"colab-df-container\">\n",
              "      <div>\n",
              "<style scoped>\n",
              "    .dataframe tbody tr th:only-of-type {\n",
              "        vertical-align: middle;\n",
              "    }\n",
              "\n",
              "    .dataframe tbody tr th {\n",
              "        vertical-align: top;\n",
              "    }\n",
              "\n",
              "    .dataframe thead th {\n",
              "        text-align: right;\n",
              "    }\n",
              "</style>\n",
              "<table border=\"1\" class=\"dataframe\">\n",
              "  <thead>\n",
              "    <tr style=\"text-align: right;\">\n",
              "      <th></th>\n",
              "      <th>partner</th>\n",
              "      <th>node</th>\n",
              "      <th>pincode</th>\n",
              "      <th>latitude</th>\n",
              "      <th>longitude</th>\n",
              "      <th>address</th>\n",
              "      <th>lat_long_status</th>\n",
              "      <th>dc_cord</th>\n",
              "      <th>node_cord</th>\n",
              "      <th>Distance</th>\n",
              "      <th>lm_category</th>\n",
              "    </tr>\n",
              "  </thead>\n",
              "  <tbody>\n",
              "    <tr>\n",
              "      <th>0</th>\n",
              "      <td>M/S KRISHI BANDHU BHANDER</td>\n",
              "      <td>Krishnanagar (HQ)</td>\n",
              "      <td>741163</td>\n",
              "      <td>23.804780</td>\n",
              "      <td>88.562722</td>\n",
              "      <td>,Tehatta-I ,Nadia ,West Bengal</td>\n",
              "      <td>True</td>\n",
              "      <td>(23.80478,88.562722)</td>\n",
              "      <td>(25.9646932,85.2547887)</td>\n",
              "      <td>411.019962</td>\n",
              "      <td>Very Far</td>\n",
              "    </tr>\n",
              "    <tr>\n",
              "      <th>1</th>\n",
              "      <td>M/S BIJOY KUMAR BISWAS</td>\n",
              "      <td>Krishnanagar (HQ)</td>\n",
              "      <td>741402</td>\n",
              "      <td>23.181806</td>\n",
              "      <td>88.470491</td>\n",
              "      <td>,Ranaghat-I ,Nadia ,West Bengal</td>\n",
              "      <td>True</td>\n",
              "      <td>(23.181806,88.470491)</td>\n",
              "      <td>(25.9646932,85.2547887)</td>\n",
              "      <td>448.425222</td>\n",
              "      <td>Very Far</td>\n",
              "    </tr>\n",
              "    <tr>\n",
              "      <th>2</th>\n",
              "      <td>M/S SUBRATA DEY</td>\n",
              "      <td>Krishnanagar (HQ)</td>\n",
              "      <td>741502</td>\n",
              "      <td>23.335490</td>\n",
              "      <td>88.643978</td>\n",
              "      <td>,Hanskhali ,Nadia ,West Bengal</td>\n",
              "      <td>True</td>\n",
              "      <td>(23.33549,88.643978)</td>\n",
              "      <td>(25.9646932,85.2547887)</td>\n",
              "      <td>449.994015</td>\n",
              "      <td>Very Far</td>\n",
              "    </tr>\n",
              "    <tr>\n",
              "      <th>3</th>\n",
              "      <td>M/S Niharendu Saha</td>\n",
              "      <td>Krishnanagar (HQ)</td>\n",
              "      <td>741152</td>\n",
              "      <td>23.981888</td>\n",
              "      <td>88.623381</td>\n",
              "      <td>,Karimpur-1 ,Nadia ,West Bengal</td>\n",
              "      <td>True</td>\n",
              "      <td>(23.981888,88.623381)</td>\n",
              "      <td>(25.9646932,85.2547887)</td>\n",
              "      <td>404.854918</td>\n",
              "      <td>Very Far</td>\n",
              "    </tr>\n",
              "    <tr>\n",
              "      <th>4</th>\n",
              "      <td>M/S KALACHAND SARKAR</td>\n",
              "      <td>Krishnanagar (HQ)</td>\n",
              "      <td>741161</td>\n",
              "      <td>23.426100</td>\n",
              "      <td>88.606559</td>\n",
              "      <td>,Krishnagar-I ,Nadia ,West Bengal</td>\n",
              "      <td>True</td>\n",
              "      <td>(23.4261,88.606559)</td>\n",
              "      <td>(25.9646932,85.2547887)</td>\n",
              "      <td>440.551134</td>\n",
              "      <td>Very Far</td>\n",
              "    </tr>\n",
              "  </tbody>\n",
              "</table>\n",
              "</div>\n",
              "      <button class=\"colab-df-convert\" onclick=\"convertToInteractive('df-73a6443d-001f-40cb-80c6-1a6ca63fc88a')\"\n",
              "              title=\"Convert this dataframe to an interactive table.\"\n",
              "              style=\"display:none;\">\n",
              "        \n",
              "  <svg xmlns=\"http://www.w3.org/2000/svg\" height=\"24px\"viewBox=\"0 0 24 24\"\n",
              "       width=\"24px\">\n",
              "    <path d=\"M0 0h24v24H0V0z\" fill=\"none\"/>\n",
              "    <path d=\"M18.56 5.44l.94 2.06.94-2.06 2.06-.94-2.06-.94-.94-2.06-.94 2.06-2.06.94zm-11 1L8.5 8.5l.94-2.06 2.06-.94-2.06-.94L8.5 2.5l-.94 2.06-2.06.94zm10 10l.94 2.06.94-2.06 2.06-.94-2.06-.94-.94-2.06-.94 2.06-2.06.94z\"/><path d=\"M17.41 7.96l-1.37-1.37c-.4-.4-.92-.59-1.43-.59-.52 0-1.04.2-1.43.59L10.3 9.45l-7.72 7.72c-.78.78-.78 2.05 0 2.83L4 21.41c.39.39.9.59 1.41.59.51 0 1.02-.2 1.41-.59l7.78-7.78 2.81-2.81c.8-.78.8-2.07 0-2.86zM5.41 20L4 18.59l7.72-7.72 1.47 1.35L5.41 20z\"/>\n",
              "  </svg>\n",
              "      </button>\n",
              "      \n",
              "  <style>\n",
              "    .colab-df-container {\n",
              "      display:flex;\n",
              "      flex-wrap:wrap;\n",
              "      gap: 12px;\n",
              "    }\n",
              "\n",
              "    .colab-df-convert {\n",
              "      background-color: #E8F0FE;\n",
              "      border: none;\n",
              "      border-radius: 50%;\n",
              "      cursor: pointer;\n",
              "      display: none;\n",
              "      fill: #1967D2;\n",
              "      height: 32px;\n",
              "      padding: 0 0 0 0;\n",
              "      width: 32px;\n",
              "    }\n",
              "\n",
              "    .colab-df-convert:hover {\n",
              "      background-color: #E2EBFA;\n",
              "      box-shadow: 0px 1px 2px rgba(60, 64, 67, 0.3), 0px 1px 3px 1px rgba(60, 64, 67, 0.15);\n",
              "      fill: #174EA6;\n",
              "    }\n",
              "\n",
              "    [theme=dark] .colab-df-convert {\n",
              "      background-color: #3B4455;\n",
              "      fill: #D2E3FC;\n",
              "    }\n",
              "\n",
              "    [theme=dark] .colab-df-convert:hover {\n",
              "      background-color: #434B5C;\n",
              "      box-shadow: 0px 1px 3px 1px rgba(0, 0, 0, 0.15);\n",
              "      filter: drop-shadow(0px 1px 2px rgba(0, 0, 0, 0.3));\n",
              "      fill: #FFFFFF;\n",
              "    }\n",
              "  </style>\n",
              "\n",
              "      <script>\n",
              "        const buttonEl =\n",
              "          document.querySelector('#df-73a6443d-001f-40cb-80c6-1a6ca63fc88a button.colab-df-convert');\n",
              "        buttonEl.style.display =\n",
              "          google.colab.kernel.accessAllowed ? 'block' : 'none';\n",
              "\n",
              "        async function convertToInteractive(key) {\n",
              "          const element = document.querySelector('#df-73a6443d-001f-40cb-80c6-1a6ca63fc88a');\n",
              "          const dataTable =\n",
              "            await google.colab.kernel.invokeFunction('convertToInteractive',\n",
              "                                                     [key], {});\n",
              "          if (!dataTable) return;\n",
              "\n",
              "          const docLinkHtml = 'Like what you see? Visit the ' +\n",
              "            '<a target=\"_blank\" href=https://colab.research.google.com/notebooks/data_table.ipynb>data table notebook</a>'\n",
              "            + ' to learn more about interactive tables.';\n",
              "          element.innerHTML = '';\n",
              "          dataTable['output_type'] = 'display_data';\n",
              "          await google.colab.output.renderOutput(dataTable, element);\n",
              "          const docLink = document.createElement('div');\n",
              "          docLink.innerHTML = docLinkHtml;\n",
              "          element.appendChild(docLink);\n",
              "        }\n",
              "      </script>\n",
              "    </div>\n",
              "  </div>\n",
              "  "
            ]
          },
          "metadata": {},
          "execution_count": 106
        }
      ]
    },
    {
      "cell_type": "code",
      "source": [
        "df.shape"
      ],
      "metadata": {
        "colab": {
          "base_uri": "https://localhost:8080/"
        },
        "id": "sid6YH-DoPA6",
        "outputId": "2e55f071-388e-42b1-af28-f86793ad4c70"
      },
      "execution_count": 107,
      "outputs": [
        {
          "output_type": "execute_result",
          "data": {
            "text/plain": [
              "(104, 11)"
            ]
          },
          "metadata": {},
          "execution_count": 107
        }
      ]
    },
    {
      "cell_type": "code",
      "source": [
        "df1 = df[['latitude','longitude']].dropna()\n",
        "df1 = df1[df1['latitude'] != 0]"
      ],
      "metadata": {
        "id": "W72A-aoApWO9"
      },
      "execution_count": 108,
      "outputs": []
    },
    {
      "cell_type": "code",
      "source": [
        "df1.head()"
      ],
      "metadata": {
        "colab": {
          "base_uri": "https://localhost:8080/",
          "height": 206
        },
        "id": "YQ6A35Iyph0b",
        "outputId": "2fc93cba-eb7b-428f-c9be-c3f0626b7814"
      },
      "execution_count": 109,
      "outputs": [
        {
          "output_type": "execute_result",
          "data": {
            "text/plain": [
              "    latitude  longitude\n",
              "0  23.804780  88.562722\n",
              "1  23.181806  88.470491\n",
              "2  23.335490  88.643978\n",
              "3  23.981888  88.623381\n",
              "4  23.426100  88.606559"
            ],
            "text/html": [
              "\n",
              "  <div id=\"df-6e81404f-45ba-48d4-be32-efe9bafa167f\">\n",
              "    <div class=\"colab-df-container\">\n",
              "      <div>\n",
              "<style scoped>\n",
              "    .dataframe tbody tr th:only-of-type {\n",
              "        vertical-align: middle;\n",
              "    }\n",
              "\n",
              "    .dataframe tbody tr th {\n",
              "        vertical-align: top;\n",
              "    }\n",
              "\n",
              "    .dataframe thead th {\n",
              "        text-align: right;\n",
              "    }\n",
              "</style>\n",
              "<table border=\"1\" class=\"dataframe\">\n",
              "  <thead>\n",
              "    <tr style=\"text-align: right;\">\n",
              "      <th></th>\n",
              "      <th>latitude</th>\n",
              "      <th>longitude</th>\n",
              "    </tr>\n",
              "  </thead>\n",
              "  <tbody>\n",
              "    <tr>\n",
              "      <th>0</th>\n",
              "      <td>23.804780</td>\n",
              "      <td>88.562722</td>\n",
              "    </tr>\n",
              "    <tr>\n",
              "      <th>1</th>\n",
              "      <td>23.181806</td>\n",
              "      <td>88.470491</td>\n",
              "    </tr>\n",
              "    <tr>\n",
              "      <th>2</th>\n",
              "      <td>23.335490</td>\n",
              "      <td>88.643978</td>\n",
              "    </tr>\n",
              "    <tr>\n",
              "      <th>3</th>\n",
              "      <td>23.981888</td>\n",
              "      <td>88.623381</td>\n",
              "    </tr>\n",
              "    <tr>\n",
              "      <th>4</th>\n",
              "      <td>23.426100</td>\n",
              "      <td>88.606559</td>\n",
              "    </tr>\n",
              "  </tbody>\n",
              "</table>\n",
              "</div>\n",
              "      <button class=\"colab-df-convert\" onclick=\"convertToInteractive('df-6e81404f-45ba-48d4-be32-efe9bafa167f')\"\n",
              "              title=\"Convert this dataframe to an interactive table.\"\n",
              "              style=\"display:none;\">\n",
              "        \n",
              "  <svg xmlns=\"http://www.w3.org/2000/svg\" height=\"24px\"viewBox=\"0 0 24 24\"\n",
              "       width=\"24px\">\n",
              "    <path d=\"M0 0h24v24H0V0z\" fill=\"none\"/>\n",
              "    <path d=\"M18.56 5.44l.94 2.06.94-2.06 2.06-.94-2.06-.94-.94-2.06-.94 2.06-2.06.94zm-11 1L8.5 8.5l.94-2.06 2.06-.94-2.06-.94L8.5 2.5l-.94 2.06-2.06.94zm10 10l.94 2.06.94-2.06 2.06-.94-2.06-.94-.94-2.06-.94 2.06-2.06.94z\"/><path d=\"M17.41 7.96l-1.37-1.37c-.4-.4-.92-.59-1.43-.59-.52 0-1.04.2-1.43.59L10.3 9.45l-7.72 7.72c-.78.78-.78 2.05 0 2.83L4 21.41c.39.39.9.59 1.41.59.51 0 1.02-.2 1.41-.59l7.78-7.78 2.81-2.81c.8-.78.8-2.07 0-2.86zM5.41 20L4 18.59l7.72-7.72 1.47 1.35L5.41 20z\"/>\n",
              "  </svg>\n",
              "      </button>\n",
              "      \n",
              "  <style>\n",
              "    .colab-df-container {\n",
              "      display:flex;\n",
              "      flex-wrap:wrap;\n",
              "      gap: 12px;\n",
              "    }\n",
              "\n",
              "    .colab-df-convert {\n",
              "      background-color: #E8F0FE;\n",
              "      border: none;\n",
              "      border-radius: 50%;\n",
              "      cursor: pointer;\n",
              "      display: none;\n",
              "      fill: #1967D2;\n",
              "      height: 32px;\n",
              "      padding: 0 0 0 0;\n",
              "      width: 32px;\n",
              "    }\n",
              "\n",
              "    .colab-df-convert:hover {\n",
              "      background-color: #E2EBFA;\n",
              "      box-shadow: 0px 1px 2px rgba(60, 64, 67, 0.3), 0px 1px 3px 1px rgba(60, 64, 67, 0.15);\n",
              "      fill: #174EA6;\n",
              "    }\n",
              "\n",
              "    [theme=dark] .colab-df-convert {\n",
              "      background-color: #3B4455;\n",
              "      fill: #D2E3FC;\n",
              "    }\n",
              "\n",
              "    [theme=dark] .colab-df-convert:hover {\n",
              "      background-color: #434B5C;\n",
              "      box-shadow: 0px 1px 3px 1px rgba(0, 0, 0, 0.15);\n",
              "      filter: drop-shadow(0px 1px 2px rgba(0, 0, 0, 0.3));\n",
              "      fill: #FFFFFF;\n",
              "    }\n",
              "  </style>\n",
              "\n",
              "      <script>\n",
              "        const buttonEl =\n",
              "          document.querySelector('#df-6e81404f-45ba-48d4-be32-efe9bafa167f button.colab-df-convert');\n",
              "        buttonEl.style.display =\n",
              "          google.colab.kernel.accessAllowed ? 'block' : 'none';\n",
              "\n",
              "        async function convertToInteractive(key) {\n",
              "          const element = document.querySelector('#df-6e81404f-45ba-48d4-be32-efe9bafa167f');\n",
              "          const dataTable =\n",
              "            await google.colab.kernel.invokeFunction('convertToInteractive',\n",
              "                                                     [key], {});\n",
              "          if (!dataTable) return;\n",
              "\n",
              "          const docLinkHtml = 'Like what you see? Visit the ' +\n",
              "            '<a target=\"_blank\" href=https://colab.research.google.com/notebooks/data_table.ipynb>data table notebook</a>'\n",
              "            + ' to learn more about interactive tables.';\n",
              "          element.innerHTML = '';\n",
              "          dataTable['output_type'] = 'display_data';\n",
              "          await google.colab.output.renderOutput(dataTable, element);\n",
              "          const docLink = document.createElement('div');\n",
              "          docLink.innerHTML = docLinkHtml;\n",
              "          element.appendChild(docLink);\n",
              "        }\n",
              "      </script>\n",
              "    </div>\n",
              "  </div>\n",
              "  "
            ]
          },
          "metadata": {},
          "execution_count": 109
        }
      ]
    },
    {
      "cell_type": "code",
      "source": [
        "plt.scatter(df1['latitude'],df1['longitude'])"
      ],
      "metadata": {
        "colab": {
          "base_uri": "https://localhost:8080/",
          "height": 282
        },
        "id": "zB8rExIPpi60",
        "outputId": "9ae8f994-8433-4c92-ac42-754b230ccbee"
      },
      "execution_count": 110,
      "outputs": [
        {
          "output_type": "execute_result",
          "data": {
            "text/plain": [
              "<matplotlib.collections.PathCollection at 0x7fc4f502b790>"
            ]
          },
          "metadata": {},
          "execution_count": 110
        },
        {
          "output_type": "display_data",
          "data": {
            "text/plain": [
              "<Figure size 432x288 with 1 Axes>"
            ],
            "image/png": "[encoded data removed]"
          },
          "metadata": {
            "needs_background": "light"
          }
        }
      ]
    },
    {
      "cell_type": "code",
      "source": [
        "df1.isnull().sum()"
      ],
      "metadata": {
        "colab": {
          "base_uri": "https://localhost:8080/"
        },
        "id": "8YAoczx9ppde",
        "outputId": "56714ce5-b688-42fa-9acf-ca440c923dd7"
      },
      "execution_count": 111,
      "outputs": [
        {
          "output_type": "execute_result",
          "data": {
            "text/plain": [
              "latitude     0\n",
              "longitude    0\n",
              "dtype: int64"
            ]
          },
          "metadata": {},
          "execution_count": 111
        }
      ]
    },
    {
      "cell_type": "code",
      "source": [
        "x = df1[['latitude','longitude']]"
      ],
      "metadata": {
        "id": "rgJx01jzq1Jc"
      },
      "execution_count": 112,
      "outputs": []
    },
    {
      "cell_type": "code",
      "source": [
        "Kmean = KMeans(n_clusters=9)\n",
        "Kmean.fit_predict(x)"
      ],
      "metadata": {
        "colab": {
          "base_uri": "https://localhost:8080/"
        },
        "id": "PZTVoQzbpxvM",
        "outputId": "0f8bcdc6-69d3-46bd-ca58-1fe0c40b5238"
      },
      "execution_count": 113,
      "outputs": [
        {
          "output_type": "execute_result",
          "data": {
            "text/plain": [
              "array([1, 5, 4, 8, 4, 0, 7, 3, 6, 2, 0, 0, 0, 0, 0, 7, 0, 7, 6, 6, 6, 0,\n",
              "       1, 3, 7, 6, 1, 4, 2, 8, 2, 5, 5, 5, 7, 1, 5, 5, 6, 3, 6, 7, 6, 2,\n",
              "       0, 3, 4, 0, 4, 7, 2, 0, 1, 1, 1, 8, 1, 8, 3, 7, 7, 7, 4, 2, 4, 4,\n",
              "       6, 0, 4, 5, 4, 8, 8, 8, 0, 1, 7, 0, 1, 1, 3, 2, 1, 2, 5, 5],\n",
              "      dtype=int32)"
            ]
          },
          "metadata": {},
          "execution_count": 113
        }
      ]
    },
    {
      "cell_type": "code",
      "source": [
        "Kmean.cluster_centers_"
      ],
      "metadata": {
        "colab": {
          "base_uri": "https://localhost:8080/"
        },
        "id": "JI8tvkIlq6d6",
        "outputId": "9b6c14ea-43ab-4301-d81d-fd5616d3775c"
      },
      "execution_count": 114,
      "outputs": [
        {
          "output_type": "execute_result",
          "data": {
            "text/plain": [
              "array([[23.09358393, 88.53290421],\n",
              "       [23.87706017, 88.53326317],\n",
              "       [23.72357075, 88.490948  ],\n",
              "       [23.73815667, 88.32527583],\n",
              "       [23.4580272 , 88.6041096 ],\n",
              "       [23.27508611, 88.43635633],\n",
              "       [23.147186  , 88.67705411],\n",
              "       [23.00144   , 88.60894773],\n",
              "       [23.96957857, 88.65525586]])"
            ]
          },
          "metadata": {},
          "execution_count": 114
        }
      ]
    },
    {
      "cell_type": "code",
      "source": [
        "df1['cluster'] = Kmean.labels_"
      ],
      "metadata": {
        "id": "5KAjuxOxrZdD"
      },
      "execution_count": 115,
      "outputs": []
    },
    {
      "cell_type": "code",
      "source": [
        "plt.scatter(df1['latitude'],df1['longitude'],c=df1['cluster'],cmap='rainbow')\n",
        "for i in range(9):\n",
        "  plt.scatter(Kmean.cluster_centers_[i][0], Kmean.cluster_centers_[i][1], s=100, c='r', marker='o')\n",
        "plt.show()"
      ],
      "metadata": {
        "colab": {
          "base_uri": "https://localhost:8080/",
          "height": 265
        },
        "id": "s9AU8UVKqs4X",
        "outputId": "4898ecf9-d0ce-4bf9-f1ae-f9cc9bb86c6e"
      },
      "execution_count": 116,
      "outputs": [
        {
          "output_type": "display_data",
          "data": {
            "text/plain": [
              "<Figure size 432x288 with 1 Axes>"
            ],
            "image/png": "[encoded data removed]"
          },
          "metadata": {
            "needs_background": "light"
          }
        }
      ]
    },
    {
      "cell_type": "code",
      "source": [
        "wcss = []\n",
        "for i in range(1,57):\n",
        "  kmeans = KMeans(i)\n",
        "  kmeans.fit(x)\n",
        "  wcss_iter = kmeans.inertia_\n",
        "  wcss.append(wcss_iter)"
      ],
      "metadata": {
        "id": "oxo2q4kNrFGq"
      },
      "execution_count": 117,
      "outputs": []
    },
    {
      "cell_type": "code",
      "source": [
        "number_clusters = range(1,57)\n",
        "plt.plot(number_clusters,wcss)\n",
        "plt.title('Elbow Method')\n",
        "plt.xlabel('Number of Cluster')\n",
        "plt.ylabel('WCSS Values')"
      ],
      "metadata": {
        "colab": {
          "base_uri": "https://localhost:8080/",
          "height": 312
        },
        "id": "mhpiBkNosGdj",
        "outputId": "d8e3b384-215f-4829-ba00-ca04a6031ab0"
      },
      "execution_count": 118,
      "outputs": [
        {
          "output_type": "execute_result",
          "data": {
            "text/plain": [
              "Text(0, 0.5, 'WCSS Values')"
            ]
          },
          "metadata": {},
          "execution_count": 118
        },
        {
          "output_type": "display_data",
          "data": {
            "text/plain": [
              "<Figure size 432x288 with 1 Axes>"
            ],
            "image/png": "[encoded data removed]"
          },
          "metadata": {
            "needs_background": "light"
          }
        }
      ]
    },
    {
      "cell_type": "code",
      "source": [
        "df1.shape"
      ],
      "metadata": {
        "colab": {
          "base_uri": "https://localhost:8080/"
        },
        "id": "rwBEkBSfuMNx",
        "outputId": "10673410-e8e6-41b6-ffd7-45d820595927"
      },
      "execution_count": 119,
      "outputs": [
        {
          "output_type": "execute_result",
          "data": {
            "text/plain": [
              "(86, 3)"
            ]
          },
          "metadata": {},
          "execution_count": 119
        }
      ]
    },
    {
      "cell_type": "code",
      "source": [
        "!pip install keplergl"
      ],
      "metadata": {
        "id": "QKCVQgW3uNC6"
      },
      "execution_count": null,
      "outputs": []
    },
    {
      "cell_type": "code",
      "source": [
        "from keplergl import KeplerGl\n",
        "map_1 = KeplerGl(height=500,data={\"data\": df1})\n",
        "map_1"
      ],
      "metadata": {
        "colab": {
          "base_uri": "https://localhost:8080/",
          "height": 521,
          "referenced_widgets": [
            "40d30cd56c464a429d6ef16bb52b39b4",
            "86c9be9a27dd4f1085eef92abc18d7d1"
          ]
        },
        "id": "scpM3jSqujsK",
        "outputId": "75abee47-c5ed-4243-cda4-37d5f7c8236c"
      },
      "execution_count": 132,
      "outputs": [
        {
          "output_type": "stream",
          "name": "stdout",
          "text": [
            "User Guide: https://docs.kepler.gl/docs/keplergl-jupyter\n"
          ]
        },
        {
          "output_type": "display_data",
          "data": {
            "text/plain": [
              "KeplerGl(data={'data':       latitude  longitude  cluster\n",
              "0    23.804780  88.562722        1\n",
              "1    23.181806  8…"
            ],
            "application/vnd.jupyter.widget-view+json": {
              "version_major": 2,
              "version_minor": 0,
              "model_id": "40d30cd56c464a429d6ef16bb52b39b4"
            }
          },
          "metadata": {
            "application/vnd.jupyter.widget-view+json": {
              "colab": {
                "custom_widget_manager": {
                  "url": "https://ssl.gstatic.com/colaboratory-static/widgets/colab-cdn-widget-manager/a8874ba6619b6106/manager.min.js"
                }
              }
            }
          }
        }
      ]
    },
    {
      "cell_type": "code",
      "source": [
        ""
      ],
      "metadata": {
        "id": "4uTtC0PnvVqV"
      },
      "execution_count": null,
      "outputs": []
    }
  ]
}